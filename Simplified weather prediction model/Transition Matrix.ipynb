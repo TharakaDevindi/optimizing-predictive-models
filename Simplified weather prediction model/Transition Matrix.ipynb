{
 "cells": [
  {
   "cell_type": "markdown",
   "metadata": {},
   "source": [
    "In \\[1\\]:\n",
    "\n",
    "    #Import the required libraries\n",
    "    import numpy as np\n",
    "    import pandas as pd\n",
    "\n",
    "In \\[2\\]:\n",
    "\n",
    "    #Transition Matrix \n",
    "    days=['sun', 'rain', 'sun', 'rain', 'sun', 'rain', 'rain', 'sun']\n",
    "    pd.crosstab(pd.Series(days[1:],name='Tomorrow'),\n",
    "                pd.Series(days[:-1],name='Today'),normalize=1)\n",
    "\n",
    "Out\\[2\\]:\n",
    "\n",
    "| Today    | rain | sun |\n",
    "|----------|------|-----|\n",
    "| Tomorrow |      |     |\n",
    "| rain     | 0.25 | 1.0 |\n",
    "| sun      | 0.75 | 0.0 |\n",
    "\n",
    "In \\[ \\]:"
   ],
   "id": "42a14256-91c8-446e-92a7-ab6bf11055d3"
  }
 ],
 "nbformat": 4,
 "nbformat_minor": 5,
 "metadata": {}
}
